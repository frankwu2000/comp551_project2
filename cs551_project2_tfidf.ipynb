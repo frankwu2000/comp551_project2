{
 "cells": [
  {
   "cell_type": "code",
   "execution_count": 99,
   "metadata": {
    "collapsed": true
   },
   "outputs": [],
   "source": [
    "import sklearn\n",
    "from sklearn.feature_extraction.text import TfidfVectorizer \n",
    "import csv\n",
    "import re\n",
    "\n",
    "from sklearn.linear_model import LogisticRegression\n",
    "#from sklearn.discriminant_analysis import LinearDiscriminantAnalysis\n",
    "#from sklearn.naive_bayes import MultinomialNB\n",
    "from scipy.sparse import *\n",
    "\n",
    "train_x = []\n",
    "train_y = []\n",
    "test_x = []\n",
    "\n",
    "#load two train data files, one test data file, and formatting them\n",
    "with open(\"data_set/train_set_x.csv\",\"rb\") as csvfile:\n",
    "    reader = csv.reader(csvfile, delimiter=',')\n",
    "    next(reader,None) #skip header of file\n",
    "    for row in reader:\n",
    "        text_deleteurl = re.sub(r\"http\\S+\",\"\", row[1])\n",
    "        text_deletenum=re.sub(\"\\d+\",\"\",text_deleteurl)\n",
    "        l=text_deletenum.replace(\" \",\"\").lower()\n",
    "        train_x.append(l)\n",
    "\n",
    "with open(\"data_set/train_set_y.csv\",\"rb\") as csvfile:\n",
    "    reader = csv.reader(csvfile, delimiter=',')\n",
    "    next(reader,None) #skip header of file\n",
    "    for row in reader:\n",
    "        train_y.append(row[1])\n",
    "        \n",
    "with open(\"data_set/test_set_x.csv\",\"rb\") as csvfile:\n",
    "    reader = csv.reader(csvfile, delimiter=',')\n",
    "    next(reader,None) #skip header of file\n",
    "    for row in reader:\n",
    "        text_deletenum=re.sub(\"\\d+\",\"\",row[1])\n",
    "        l=text_deletenum.replace(\" \",\"\").lower()\n",
    "        test_x.append(l)\n",
    "        \n",
    "#tfidf preprocessing\n",
    "\n",
    "vec = TfidfVectorizer(decode_error='strict',analyzer='char',min_df=0)\n",
    "train_x=vec.fit_transform(train_x)\n",
    "features = vec.get_feature_names()\n",
    "\n",
    "vec2 = TfidfVectorizer(decode_error='strict',analyzer='char',min_df=0,vocabulary=features)\n",
    "test_x = vec2.fit_transform(test_x)\n",
    "#print(test_x)\n",
    "\n",
    "\n",
    "#print(\"train_x is a matrix with size : \",train_x.shape[0],train_x.shape[1])\n",
    "#print(\"train_y is an array with size: \",len(train_y))\n",
    "\n",
    "# Library function : logisticRegression\n",
    "lr_classifier = LogisticRegression(penalty='l2', C=1)\n",
    "lr_classifier.fit(train_x, train_y)\n",
    "\n",
    "# predict on the test file\n",
    "test_y_pred = lr_classifier.predict(test_x)\n",
    "\n",
    "test_y_pred_temp = test_y_pred.tolist()\n",
    "\n",
    "# write the output to the output file\n",
    "with open(\"library_logistic_output.csv\",'wb') as output:\n",
    "    output.write(\"Id,Category\")\n",
    "    output.write(\"\\n\")\n",
    "    for i in range(len(test_y_pred_temp)):\n",
    "        output.write(str(i))\n",
    "        output.write(\",\")\n",
    "        output.write(test_y_pred_temp[i])\n",
    "        output.write(\"\\n\")\n",
    "\n",
    "\n",
    "\n",
    "\n",
    "\n"
   ]
  },
  {
   "cell_type": "code",
   "execution_count": null,
   "metadata": {
    "collapsed": true
   },
   "outputs": [],
   "source": []
  }
 ],
 "metadata": {
  "kernelspec": {
   "display_name": "Python 3",
   "language": "python",
   "name": "python3"
  },
  "language_info": {
   "codemirror_mode": {
    "name": "ipython",
    "version": 3
   },
   "file_extension": ".py",
   "mimetype": "text/x-python",
   "name": "python",
   "nbconvert_exporter": "python",
   "pygments_lexer": "ipython3",
   "version": "3.6.2"
  }
 },
 "nbformat": 4,
 "nbformat_minor": 2
}
