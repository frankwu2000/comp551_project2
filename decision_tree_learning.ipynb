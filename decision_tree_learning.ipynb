{
 "cells": [
  {
   "cell_type": "raw",
   "metadata": {},
   "source": [
    "Tree data structure:\n",
    "\n",
    "class Node:  \n",
    "    \n",
    "    xy_dic  \n",
    "    feature_index  \n",
    "    is_leaf  \n",
    "    \n",
    "    pos_child\n",
    "    neg_child\n",
    "    \n",
    "    def _init_(self,xy_dic,feature_index):\n",
    "        self.xy_dic = xy_dic\n",
    "        self.feature_index = feature_index\n",
    "        \n",
    "\n",
    "Pseudocode:\n",
    "\n",
    "def build_tree(cur_node):\n",
    "    if cur_node.feature_index > max_feature_index:\n",
    "        return cur_node\n",
    "    information_gain , best_split = best_split(cur_node,cur_node.feature_index)\n",
    "    if information_gain < threshold:\n",
    "        cur_node.is_leaf = True\n",
    "        return cur_node\n",
    "    childs_set = split(cur_node,best_split,feature_index)\n",
    "    cur_node.pos_child = Node(childs_set[0],feature_index+1)\n",
    "    cur_node.neg_child = Node(childs_set[1],feature_index+1)\n",
    "    build_tree(cur_node.pos_child)\n",
    "    build_tree(cur_node.neg_child)\n",
    "    \n",
    "    return cur_node\n",
    "    \n",
    "    "
   ]
  },
  {
   "cell_type": "code",
   "execution_count": 29,
   "metadata": {},
   "outputs": [
    {
     "name": "stdout",
     "output_type": "stream",
     "text": [
      "16 False 0\n",
      "4.0 False 1\n",
      "1.0 True 2\n",
      "2.0 False 2\n",
      "0.5 True 3\n",
      "1.0 True 3\n",
      "8.0 False 1\n",
      "2.0 False 2\n",
      "0.5 True 3\n",
      "1.0 True 3\n",
      "4.0 False 2\n",
      "1.0 True 3\n",
      "2.0 True 3\n"
     ]
    }
   ],
   "source": [
    "class Node:\n",
    "    pos_child = None\n",
    "    neg_child = None\n",
    "    is_leaf = False\n",
    "    def __init__(self,value,findex):\n",
    "        self.value = value\n",
    "        self.findex = findex\n",
    "        \n",
    "def build_tree(cur_node):\n",
    "    if cur_node.findex > 2 or cur_node.value-2 < 0:\n",
    "        cur_node.is_leaf =True\n",
    "        return cur_node\n",
    "   \n",
    "    cur_node.pos_child = Node(cur_node.value/4,cur_node.findex+1)\n",
    "    cur_node.neg_child = Node(cur_node.value/2,cur_node.findex+1)\n",
    "    build_tree(cur_node.pos_child)\n",
    "    build_tree(cur_node.neg_child)\n",
    "    \n",
    "root = Node(16,0)\n",
    "build_tree(root)\n",
    "\n",
    "def traverse_tree(cur_node):\n",
    "    if cur_node:\n",
    "        print(cur_node.value,cur_node.is_leaf,cur_node.findex)\n",
    "        traverse_tree(cur_node.pos_child)\n",
    "        traverse_tree(cur_node.neg_child)\n",
    "    \n",
    "traverse_tree(root)"
   ]
  },
  {
   "cell_type": "code",
   "execution_count": null,
   "metadata": {
    "collapsed": true
   },
   "outputs": [],
   "source": []
  }
 ],
 "metadata": {
  "kernelspec": {
   "display_name": "Python 3",
   "language": "python",
   "name": "python3"
  },
  "language_info": {
   "codemirror_mode": {
    "name": "ipython",
    "version": 3
   },
   "file_extension": ".py",
   "mimetype": "text/x-python",
   "name": "python",
   "nbconvert_exporter": "python",
   "pygments_lexer": "ipython3",
   "version": "3.6.2"
  }
 },
 "nbformat": 4,
 "nbformat_minor": 2
}
